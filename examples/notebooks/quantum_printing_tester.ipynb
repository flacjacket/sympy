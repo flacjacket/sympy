{
 "metadata": {
  "name": "quantum_printing_tester"
 },
 "nbformat": 3,
 "worksheets": [
  {
   "cells": [
    {
     "cell_type": "code",
     "collapsed": true,
     "input": [
      "# This suite checks the latex output of the quantum mechanics module and its",
      "# rendering in the IPython Qt console and HTML notebook. All tests run by",
      "# test_printing.py should appear here.",
      "",
      "# To update this file, change the HTML notebook, run all cells and save. Then,",
      "# from the notebook, export the file to a .py file for the Qt console.",
      "",
      "# To view the tests in the Qt console, run 'ipython-qtconsole --profile=sympy'",
      "# and execute '%run 'examples/notebooks/quantum printing tester.py''"
     ],
     "language": "python",
     "outputs": [],
     "prompt_number": 1
    },
    {
     "cell_type": "code",
     "collapsed": true,
     "input": [
      "from sympy.physics.quantum.anticommutator import AntiCommutator",
      "from sympy.physics.quantum.cg import CG, Wigner3j",
      "from sympy.physics.quantum.commutator import Commutator",
      "from sympy.physics.quantum.constants import hbar",
      "from sympy.physics.quantum.dagger import Dagger",
      "from sympy.physics.quantum.gate import CGate, CNotGate, IdentityGate, UGate, XGate",
      "from sympy.physics.quantum.hilbert import ComplexSpace, FockSpace, HilbertSpace, L2",
      "from sympy.physics.quantum.innerproduct import InnerProduct",
      "from sympy.physics.quantum.operator import Operator, OuterProduct, DifferentialOperator",
      "from sympy.physics.quantum.qexpr import QExpr",
      "from sympy.physics.quantum.qubit import Qubit, IntQubit",
      "from sympy.physics.quantum.spin import Jz, J2, JzBra, JzBraCoupled, JzKet, JzKetCoupled, Rotation, WignerD",
      "from sympy.physics.quantum.state import Bra, Ket, TimeDepBra, TimeDepKet",
      "from sympy.physics.quantum.tensorproduct import TensorProduct",
      "",
      "from sympy import Derivative, Function, Interval, Matrix, oo, Pow, S, Symbol, symbols",
      "",
      "from IPython.core.display import display"
     ],
     "language": "python",
     "outputs": [],
     "prompt_number": 2
    },
    {
     "cell_type": "code",
     "collapsed": true,
     "input": [
      "#anticommutator",
      "A = Operator('A')",
      "B = Operator('B')",
      "ac = AntiCommutator(A,B)",
      "ac_tall = AntiCommutator(A**2,B)"
     ],
     "language": "python",
     "outputs": [],
     "prompt_number": 3
    },
    {
     "cell_type": "code",
     "collapsed": false,
     "input": [
      "display(ac)"
     ],
     "language": "python",
     "outputs": [
      {
       "latex": [
        "$$\\left\\{A,B\\right\\}$$"
       ],
       "output_type": "display_data",
       "text": [
        "{A,B}"
       ]
      }
     ],
     "prompt_number": 4
    },
    {
     "cell_type": "code",
     "collapsed": false,
     "input": [
      "display(ac_tall)"
     ],
     "language": "python",
     "outputs": [
      {
       "latex": [
        "$$\\left\\{\\left(A\\right)^{2},B\\right\\}$$"
       ],
       "output_type": "display_data",
       "text": [
        "",
        "\u23a7 2  \u23ab",
        "\u23a8A ,B\u23ac",
        "\u23a9    \u23ad"
       ]
      }
     ],
     "prompt_number": 5
    },
    {
     "cell_type": "code",
     "collapsed": true,
     "input": [
      "#cg",
      "cg = CG(1,2,3,4,5,6)",
      "wigner3j = Wigner3j(1,2,3,4,5,6)"
     ],
     "language": "python",
     "outputs": [],
     "prompt_number": 6
    },
    {
     "cell_type": "code",
     "collapsed": false,
     "input": [
      "display(cg)"
     ],
     "language": "python",
     "outputs": [
      {
       "latex": [
        "$$C^{5,6}_{1,2,3,4}$$"
       ],
       "output_type": "display_data",
       "png": "[encoded data removed]",
       "text": [
        "",
        " 5,6    ",
        "C       ",
        " 1,2,3,4"
       ]
      }
     ],
     "prompt_number": 7
    },
    {
     "cell_type": "code",
     "collapsed": false,
     "input": [
      "display(wigner3j)"
     ],
     "language": "python",
     "outputs": [
      {
       "latex": [
        "$$\\left(\\begin{array}{ccc} 1 & 3 & 5 \\\\ 2 & 4 & 6 \\end{array}\\right)$$"
       ],
       "output_type": "display_data",
       "text": [
        "",
        "\u239b1  3  5\u239e",
        "\u239c       \u239f",
        "\u239d2  4  6\u23a0"
       ]
      }
     ],
     "prompt_number": 8
    },
    {
     "cell_type": "code",
     "collapsed": true,
     "input": [
      "#commutator",
      "A = Operator('A')",
      "B = Operator('B')",
      "c = Commutator(A,B)",
      "c_tall = Commutator(A**2,B)"
     ],
     "language": "python",
     "outputs": [],
     "prompt_number": 9
    },
    {
     "cell_type": "code",
     "collapsed": false,
     "input": [
      "display(c)"
     ],
     "language": "python",
     "outputs": [
      {
       "latex": [
        "$$\\left[A,B\\right]$$"
       ],
       "output_type": "display_data",
       "png": "[encoded data removed]",
       "text": [
        "[A,B]"
       ]
      }
     ],
     "prompt_number": 10
    },
    {
     "cell_type": "code",
     "collapsed": false,
     "input": [
      "display(c_tall)"
     ],
     "language": "python",
     "outputs": [
      {
       "latex": [
        "$$\\left[\\left(A\\right)^{2},B\\right]$$"
       ],
       "output_type": "display_data",
       "png": "[encoded data removed]",
       "text": [
        "",
        "\u23a1 2  \u23a4",
        "\u23a3A ,B\u23a6"
       ]
      }
     ],
     "prompt_number": 11
    },
    {
     "cell_type": "code",
     "collapsed": true,
     "input": [
      "#constants"
     ],
     "language": "python",
     "outputs": [],
     "prompt_number": 12
    },
    {
     "cell_type": "code",
     "collapsed": false,
     "input": [
      "display(hbar)"
     ],
     "language": "python",
     "outputs": [
      {
       "latex": [
        "$$\\hbar$$"
       ],
       "output_type": "display_data",
       "png": "[encoded data removed]",
       "text": [
        "\u210f"
       ]
      }
     ],
     "prompt_number": 13
    },
    {
     "cell_type": "code",
     "collapsed": true,
     "input": [
      "#dagger",
      "x = symbols('x')",
      "expr = Dagger(x)"
     ],
     "language": "python",
     "outputs": [],
     "prompt_number": 14
    },
    {
     "cell_type": "code",
     "collapsed": false,
     "input": [
      "display(expr)"
     ],
     "language": "python",
     "outputs": [
      {
       "latex": [
        "$$x^{\\dagger}$$"
       ],
       "output_type": "display_data",
       "png": "[encoded data removed]",
       "text": [
        "",
        " \u2020",
        "x "
       ]
      }
     ],
     "prompt_number": 15
    },
    {
     "cell_type": "code",
     "collapsed": true,
     "input": [
      "#gate",
      "a,b,c,d = symbols('a b c d')",
      "uMat = Matrix([[a,b],[c,d]])",
      "q = Qubit(1,0,1,0,1)",
      "g1 = IdentityGate(2)",
      "g2 = CGate((3,0), XGate(1))",
      "g3 = CNotGate(1,0)",
      "g4 = UGate((0,), uMat)"
     ],
     "language": "python",
     "outputs": [],
     "prompt_number": 16
    },
    {
     "cell_type": "code",
     "collapsed": false,
     "input": [
      "display(g1)"
     ],
     "language": "python",
     "outputs": [
      {
       "latex": [
        "$$1_{2}$$"
       ],
       "output_type": "display_data",
       "png": "[encoded data removed]",
       "text": [
        "",
        "1 ",
        " 2"
       ]
      }
     ],
     "prompt_number": 17
    },
    {
     "cell_type": "code",
     "collapsed": false,
     "input": [
      "display(g1*q)"
     ],
     "language": "python",
     "outputs": [
      {
       "latex": [
        "$$1_{2} {\\left|10101\\right\\rangle }$$"
       ],
       "output_type": "display_data",
       "png": "[encoded data removed]",
       "text": [
        "",
        "1 \u22c5\u275810101\u27e9",
        " 2        "
       ]
      }
     ],
     "prompt_number": 18
    },
    {
     "cell_type": "code",
     "collapsed": false,
     "input": [
      "display(g2)"
     ],
     "language": "python",
     "outputs": [
      {
       "latex": [
        "$$C_{3,0}{\\left(X_{1}\\right)}$$"
       ],
       "output_type": "display_data",
       "png": "[encoded data removed]",
       "text": [
        "",
        "C   \u239bX \u239e",
        " 3,0\u239d 1\u23a0"
       ]
      }
     ],
     "prompt_number": 19
    },
    {
     "cell_type": "code",
     "collapsed": false,
     "input": [
      "display(g3)"
     ],
     "language": "python",
     "outputs": [
      {
       "latex": [
        "$$CNOT_{1,0}$$"
       ],
       "output_type": "display_data",
       "png": "[encoded data removed]",
       "text": [
        "",
        "CNOT   ",
        "    1,0"
       ]
      }
     ],
     "prompt_number": 20
    },
    {
     "cell_type": "code",
     "collapsed": false,
     "input": [
      "display(g4)"
     ],
     "language": "python",
     "outputs": [
      {
       "latex": [
        "$$U_{0}$$"
       ],
       "output_type": "display_data",
       "png": "[encoded data removed]",
       "text": [
        "",
        "U ",
        " 0"
       ]
      }
     ],
     "prompt_number": 21
    },
    {
     "cell_type": "code",
     "collapsed": true,
     "input": [
      "#hilbert",
      "h1 = HilbertSpace()",
      "h2 = ComplexSpace(2)",
      "h3 = FockSpace()",
      "h4 = L2(Interval(0,oo))"
     ],
     "language": "python",
     "outputs": [],
     "prompt_number": 22
    },
    {
     "cell_type": "code",
     "collapsed": false,
     "input": [
      "display(h1)"
     ],
     "language": "python",
     "outputs": [
      {
       "latex": [
        "$$\\mathcal{H}$$"
       ],
       "output_type": "display_data",
       "png": "[encoded data removed]",
       "text": [
        "H"
       ]
      }
     ],
     "prompt_number": 23
    },
    {
     "cell_type": "code",
     "collapsed": false,
     "input": [
      "display(h2)"
     ],
     "language": "python",
     "outputs": [
      {
       "latex": [
        "$$\\mathcal{C}^{2}$$"
       ],
       "output_type": "display_data",
       "png": "[encoded data removed]",
       "text": [
        "",
        " 2",
        "C "
       ]
      }
     ],
     "prompt_number": 24
    },
    {
     "cell_type": "code",
     "collapsed": false,
     "input": [
      "display(h3)"
     ],
     "language": "python",
     "outputs": [
      {
       "latex": [
        "$$\\mathcal{F}$$"
       ],
       "output_type": "display_data",
       "png": "[encoded data removed]",
       "text": [
        "F"
       ]
      }
     ],
     "prompt_number": 25
    },
    {
     "cell_type": "code",
     "collapsed": false,
     "input": [
      "display(h4)"
     ],
     "language": "python",
     "outputs": [
      {
       "latex": [
        "$${\\mathcal{L}^2}\\left( \\left[0, \\infty\\right) \\right)$$"
       ],
       "output_type": "display_data",
       "png": "[encoded data removed]",
       "text": [
        "",
        " 2",
        "L "
       ]
      }
     ],
     "prompt_number": 26
    },
    {
     "cell_type": "code",
     "collapsed": false,
     "input": [
      "display(h1+h2)"
     ],
     "language": "python",
     "outputs": [
      {
       "latex": [
        "$$\\mathcal{H}\\oplus \\mathcal{C}^{2}$$"
       ],
       "output_type": "display_data",
       "png": "[encoded data removed]",
       "text": [
        "",
        "     2",
        "H \u2295 C "
       ]
      }
     ],
     "prompt_number": 27
    },
    {
     "cell_type": "code",
     "collapsed": false,
     "input": [
      "display(h1*h2)"
     ],
     "language": "python",
     "outputs": [
      {
       "latex": [
        "$$\\mathcal{H}\\otimes \\mathcal{C}^{2}$$"
       ],
       "output_type": "display_data",
       "png": "[encoded data removed]",
       "text": [
        "",
        "     2",
        "H \u2a02 C "
       ]
      }
     ],
     "prompt_number": 28
    },
    {
     "cell_type": "code",
     "collapsed": false,
     "input": [
      "display(h1**2)"
     ],
     "language": "python",
     "outputs": [
      {
       "latex": [
        "$${\\mathcal{H}}^{\\otimes 2}$$"
       ],
       "output_type": "display_data",
       "png": "[encoded data removed]",
       "text": [
        "",
        " \u2a022",
        "H  "
       ]
      }
     ],
     "prompt_number": 29
    },
    {
     "cell_type": "code",
     "collapsed": true,
     "input": [
      "#innerproduct",
      "x = symbols('x')",
      "ip1 = InnerProduct(Bra(), Ket())",
      "ip2 = InnerProduct(TimeDepBra(), TimeDepKet())",
      "ip3 = InnerProduct(JzBra(1,1), JzKet(1,1))",
      "ip4 = InnerProduct(JzBraCoupled(1,1,1,1), JzKetCoupled(1,1,1,1))",
      "ip_tall1 = InnerProduct(Bra(x/2), Ket(x/2))",
      "ip_tall2 = InnerProduct(Bra(x), Ket(x/2))",
      "ip_tall3 = InnerProduct(Bra(x/2), Ket(x))"
     ],
     "language": "python",
     "outputs": [],
     "prompt_number": 30
    },
    {
     "cell_type": "code",
     "collapsed": false,
     "input": [
      "display(ip1)"
     ],
     "language": "python",
     "outputs": [
      {
       "latex": [
        "$$\\left\\langle \\psi \\right. {\\left|\\psi\\right\\rangle }$$"
       ],
       "output_type": "display_data",
       "png": "[encoded data removed]",
       "text": [
        "\u27e8\u03c8\u2758\u03c8\u27e9"
       ]
      }
     ],
     "prompt_number": 31
    },
    {
     "cell_type": "code",
     "collapsed": false,
     "input": [
      "display(ip2)"
     ],
     "language": "python",
     "outputs": [
      {
       "latex": [
        "$$\\left\\langle \\psi \\right. {\\left|\\psi;t\\right\\rangle }$$"
       ],
       "output_type": "display_data",
       "png": "[encoded data removed]",
       "text": [
        "\u27e8\u03c8\u2758\u03c8;t\u27e9"
       ]
      }
     ],
     "prompt_number": 32
    },
    {
     "cell_type": "code",
     "collapsed": false,
     "input": [
      "display(ip3)"
     ],
     "language": "python",
     "outputs": [
      {
       "latex": [
        "$$\\left\\langle 1,1 \\right. {\\left|1,1\\right\\rangle }$$"
       ],
       "output_type": "display_data",
       "png": "[encoded data removed]",
       "text": [
        "\u27e81,1\u27581,1\u27e9"
       ]
      }
     ],
     "prompt_number": 33
    },
    {
     "cell_type": "code",
     "collapsed": false,
     "input": [
      "display(ip4)"
     ],
     "language": "python",
     "outputs": [
      {
       "latex": [
        "$$\\left\\langle 1,1,1,1 \\right. {\\left|1,1,1,1\\right\\rangle }$$"
       ],
       "output_type": "display_data",
       "png": "[encoded data removed]",
       "text": [
        "\u27e81,1,1,1\u27581,1,1,1\u27e9"
       ]
      }
     ],
     "prompt_number": 34
    },
    {
     "cell_type": "code",
     "collapsed": false,
     "input": [
      "display(ip_tall1)"
     ],
     "language": "python",
     "outputs": [
      {
       "latex": [
        "$$\\left\\langle \\frac{1}{2} x \\right. {\\left|\\frac{1}{2} x\\right\\rangle }$$"
       ],
       "output_type": "display_data",
       "png": "[encoded data removed]",
       "text": [
        "",
        " x x ",
        "\u27e8\u2500\u2758\u2500\u27e9",
        " 2 2 "
       ]
      }
     ],
     "prompt_number": 35
    },
    {
     "cell_type": "code",
     "collapsed": false,
     "input": [
      "display(ip_tall2)"
     ],
     "language": "python",
     "outputs": [
      {
       "latex": [
        "$$\\left\\langle x \\right. {\\left|\\frac{1}{2} x\\right\\rangle }$$"
       ],
       "output_type": "display_data",
       "png": "[encoded data removed]",
       "text": [
        "",
        "   x ",
        "\u27e8x\u2758\u2500\u27e9",
        "   2 "
       ]
      }
     ],
     "prompt_number": 36
    },
    {
     "cell_type": "code",
     "collapsed": false,
     "input": [
      "display(ip_tall3)"
     ],
     "language": "python",
     "outputs": [
      {
       "latex": [
        "$$\\left\\langle \\frac{1}{2} x \\right. {\\left|x\\right\\rangle }$$"
       ],
       "output_type": "display_data",
       "png": "[encoded data removed]",
       "text": [
        "",
        " x   ",
        "\u27e8\u2500\u2758x\u27e9",
        " 2   "
       ]
      }
     ],
     "prompt_number": 37
    },
    {
     "cell_type": "code",
     "collapsed": true,
     "input": [
      "#operator",
      "a = Operator('A')",
      "b = Operator('B',Symbol('t'),S(1)/2)",
      "inv = a.inv()",
      "f = Function('f')",
      "x = symbols('x')",
      "d = DifferentialOperator(Derivative(f(x),x),f(x))",
      "op = OuterProduct(Ket(), Bra())"
     ],
     "language": "python",
     "outputs": [],
     "prompt_number": 38
    },
    {
     "cell_type": "code",
     "collapsed": false,
     "input": [
      "display(a)"
     ],
     "language": "python",
     "outputs": [
      {
       "latex": [
        "$$A$$"
       ],
       "output_type": "display_data",
       "png": "[encoded data removed]",
       "text": [
        "A"
       ]
      }
     ],
     "prompt_number": 39
    },
    {
     "cell_type": "code",
     "collapsed": false,
     "input": [
      "display(inv)"
     ],
     "language": "python",
     "outputs": [
      {
       "latex": [
        "$$\\left(A\\right)^{-1}$$"
       ],
       "output_type": "display_data",
       "png": "[encoded data removed]",
       "text": [
        "",
        " -1",
        "A  "
       ]
      }
     ],
     "prompt_number": 40
    },
    {
     "cell_type": "code",
     "collapsed": false,
     "input": [
      "display(d)"
     ],
     "language": "python",
     "outputs": [
      {
       "latex": [
        "$$DifferentialOperator(\\frac{\\partial}{\\partial x} \\operatorname{f}{\\left (x \\right )},\\operatorname{f}{\\left (x \\right )})$$"
       ],
       "output_type": "display_data",
       "png": "[encoded data removed]",
       "text": [
        "",
        "                    \u239bd            \u239e",
        "DifferentialOperator\u239c\u2500\u2500(f(x)),f(x)\u239f",
        "                    \u239ddx           \u23a0"
       ]
      }
     ],
     "prompt_number": 41
    },
    {
     "cell_type": "code",
     "collapsed": false,
     "input": [
      "display(b)"
     ],
     "language": "python",
     "outputs": [
      {
       "latex": [
        "$$Operator(B,t,\\frac{1}{2})$$"
       ],
       "output_type": "display_data",
       "png": "[encoded data removed]",
       "text": [
        "Operator(B,t,1/2)"
       ]
      }
     ],
     "prompt_number": 42
    },
    {
     "cell_type": "code",
     "collapsed": false,
     "input": [
      "display(op)"
     ],
     "language": "python",
     "outputs": [
      {
       "latex": [
        "$${\\left|\\psi\\right\\rangle }{\\left\\langle \\psi\\right|}$$"
       ],
       "output_type": "display_data",
       "png": "[encoded data removed]",
       "text": [
        "\u2758\u03c8\u27e9\u27e8\u03c8\u2758"
       ]
      }
     ],
     "prompt_number": 43
    },
    {
     "cell_type": "code",
     "collapsed": true,
     "input": [
      "#qexpr",
      "q = QExpr('q')"
     ],
     "language": "python",
     "outputs": [],
     "prompt_number": 44
    },
    {
     "cell_type": "code",
     "collapsed": false,
     "input": [
      "display(q)"
     ],
     "language": "python",
     "outputs": [
      {
       "latex": [
        "$$q$$"
       ],
       "output_type": "display_data",
       "png": "[encoded data removed]",
       "text": [
        "q"
       ]
      }
     ],
     "prompt_number": 45
    },
    {
     "cell_type": "code",
     "collapsed": true,
     "input": [
      "#qubit",
      "q1 = Qubit('0101')",
      "q2 = IntQubit(8)"
     ],
     "language": "python",
     "outputs": [],
     "prompt_number": 46
    },
    {
     "cell_type": "code",
     "collapsed": false,
     "input": [
      "display(q1)"
     ],
     "language": "python",
     "outputs": [
      {
       "latex": [
        "$${\\left|0101\\right\\rangle }$$"
       ],
       "output_type": "display_data",
       "png": "[encoded data removed]",
       "text": [
        "\u27580101\u27e9"
       ]
      }
     ],
     "prompt_number": 47
    },
    {
     "cell_type": "code",
     "collapsed": false,
     "input": [
      "display(q2)"
     ],
     "language": "python",
     "outputs": [
      {
       "latex": [
        "$${\\left|8\\right\\rangle }$$"
       ],
       "output_type": "display_data",
       "png": "[encoded data removed]",
       "text": [
        "\u27588\u27e9"
       ]
      }
     ],
     "prompt_number": 48
    },
    {
     "cell_type": "code",
     "collapsed": true,
     "input": [
      "#spin",
      "ket = JzKet(1,1)",
      "bra = JzBra(1,1)",
      "cket = JzKetCoupled(1,1,1,1)",
      "cbra = JzBraCoupled(1,1,1,1)",
      "rot = Rotation(1,2,3)",
      "bigd = WignerD(1,2,3,4,5,6)",
      "smalld = WignerD(1,2,3,0,4,0)"
     ],
     "language": "python",
     "outputs": [],
     "prompt_number": 49
    },
    {
     "cell_type": "code",
     "collapsed": false,
     "input": [
      "display(J2)"
     ],
     "language": "python",
     "outputs": [
      {
       "latex": [
        "$$J^2$$"
       ],
       "output_type": "display_data",
       "png": "[encoded data removed]",
       "text": [
        "",
        " 2",
        "J "
       ]
      }
     ],
     "prompt_number": 50
    },
    {
     "cell_type": "code",
     "collapsed": false,
     "input": [
      "display(Jz)"
     ],
     "language": "python",
     "outputs": [
      {
       "latex": [
        "$$J_z$$"
       ],
       "output_type": "display_data",
       "png": "[encoded data removed]",
       "text": [
        "",
        "J ",
        " z"
       ]
      }
     ],
     "prompt_number": 51
    },
    {
     "cell_type": "code",
     "collapsed": false,
     "input": [
      "display(ket)"
     ],
     "language": "python",
     "outputs": [
      {
       "latex": [
        "$${\\left|1,1\\right\\rangle }$$"
       ],
       "output_type": "display_data",
       "png": "[encoded data removed]",
       "text": [
        "\u27581,1\u27e9"
       ]
      }
     ],
     "prompt_number": 52
    },
    {
     "cell_type": "code",
     "collapsed": false,
     "input": [
      "display(bra)"
     ],
     "language": "python",
     "outputs": [
      {
       "latex": [
        "$${\\left\\langle 1,1\\right|}$$"
       ],
       "output_type": "display_data",
       "png": "[encoded data removed]",
       "text": [
        "\u27e81,1\u2758"
       ]
      }
     ],
     "prompt_number": 53
    },
    {
     "cell_type": "code",
     "collapsed": false,
     "input": [
      "display(cket)"
     ],
     "language": "python",
     "outputs": [
      {
       "latex": [
        "$${\\left|1,1,1,1\\right\\rangle }$$"
       ],
       "output_type": "display_data",
       "png": "[encoded data removed]",
       "text": [
        "\u27581,1,1,1\u27e9"
       ]
      }
     ],
     "prompt_number": 54
    },
    {
     "cell_type": "code",
     "collapsed": false,
     "input": [
      "display(cbra)"
     ],
     "language": "python",
     "outputs": [
      {
       "latex": [
        "$${\\left\\langle 1,1,1,1\\right|}$$"
       ],
       "output_type": "display_data",
       "png": "[encoded data removed]",
       "text": [
        "\u27e81,1,1,1\u2758"
       ]
      }
     ],
     "prompt_number": 55
    },
    {
     "cell_type": "code",
     "collapsed": false,
     "input": [
      "display(rot)"
     ],
     "language": "python",
     "outputs": [
      {
       "latex": [
        "$$Rotation(1,2,3)$$"
       ],
       "output_type": "display_data",
       "png": "[encoded data removed]",
       "text": [
        "\u211b (1,2,3)"
       ]
      }
     ],
     "prompt_number": 56
    },
    {
     "cell_type": "code",
     "collapsed": false,
     "input": [
      "display(bigd)"
     ],
     "language": "python",
     "outputs": [
      {
       "latex": [
        "$$D^{1}_{2,3}\\left(4,5,6\\right)$$"
       ],
       "output_type": "display_data",
       "png": "[encoded data removed]",
       "text": [
        "",
        " 1         ",
        "D   (4,5,6)",
        " 2,3       "
       ]
      }
     ],
     "prompt_number": 57
    },
    {
     "cell_type": "code",
     "collapsed": false,
     "input": [
      "display(smalld)"
     ],
     "language": "python",
     "outputs": [
      {
       "latex": [
        "$$d^{1}_{2,3}\\left(4\\right)$$"
       ],
       "output_type": "display_data",
       "png": "[encoded data removed]",
       "text": [
        "",
        " 1     ",
        "d   (4)",
        " 2,3   "
       ]
      }
     ],
     "prompt_number": 58
    },
    {
     "cell_type": "code",
     "collapsed": true,
     "input": [
      "#state",
      "x = symbols('x')",
      "bra = Bra()",
      "ket = Ket()",
      "bra_tall = Bra(x/2)",
      "ket_tall = Ket(x/2)",
      "tbra = TimeDepBra()",
      "tket = TimeDepKet()"
     ],
     "language": "python",
     "outputs": [],
     "prompt_number": 59
    },
    {
     "cell_type": "code",
     "collapsed": false,
     "input": [
      "display(bra)"
     ],
     "language": "python",
     "outputs": [
      {
       "latex": [
        "$${\\left\\langle \\psi\\right|}$$"
       ],
       "output_type": "display_data",
       "png": "[encoded data removed]",
       "text": [
        "\u27e8\u03c8\u2758"
       ]
      }
     ],
     "prompt_number": 60
    },
    {
     "cell_type": "code",
     "collapsed": false,
     "input": [
      "display(ket)"
     ],
     "language": "python",
     "outputs": [
      {
       "latex": [
        "$${\\left|\\psi\\right\\rangle }$$"
       ],
       "output_type": "display_data",
       "png": "[encoded data removed]",
       "text": [
        "\u2758\u03c8\u27e9"
       ]
      }
     ],
     "prompt_number": 61
    },
    {
     "cell_type": "code",
     "collapsed": false,
     "input": [
      "display(bra_tall)"
     ],
     "language": "python",
     "outputs": [
      {
       "latex": [
        "$${\\left\\langle \\frac{1}{2} x\\right|}$$"
       ],
       "output_type": "display_data",
       "png": "[encoded data removed]",
       "text": [
        "",
        " x ",
        "\u27e8\u2500\u2758",
        " 2 "
       ]
      }
     ],
     "prompt_number": 62
    },
    {
     "cell_type": "code",
     "collapsed": false,
     "input": [
      "display(ket_tall)"
     ],
     "language": "python",
     "outputs": [
      {
       "latex": [
        "$${\\left|\\frac{1}{2} x\\right\\rangle }$$"
       ],
       "output_type": "display_data",
       "png": "[encoded data removed]",
       "text": [
        "",
        " x ",
        "\u2758\u2500\u27e9",
        " 2 "
       ]
      }
     ],
     "prompt_number": 63
    },
    {
     "cell_type": "code",
     "collapsed": false,
     "input": [
      "display(tbra)"
     ],
     "language": "python",
     "outputs": [
      {
       "latex": [
        "$${\\left\\langle \\psi;t\\right|}$$"
       ],
       "output_type": "display_data",
       "png": "[encoded data removed]",
       "text": [
        "\u27e8\u03c8;t\u2758"
       ]
      }
     ],
     "prompt_number": 64
    },
    {
     "cell_type": "code",
     "collapsed": false,
     "input": [
      "display(tket)"
     ],
     "language": "python",
     "outputs": [
      {
       "latex": [
        "$${\\left|\\psi;t\\right\\rangle }$$"
       ],
       "output_type": "display_data",
       "png": "[encoded data removed]",
       "text": [
        "\u2758\u03c8;t\u27e9"
       ]
      }
     ],
     "prompt_number": 65
    },
    {
     "cell_type": "code",
     "collapsed": true,
     "input": [
      "#tensorproduct",
      "tp = TensorProduct(JzKet(1,1), JzKet(1,0))"
     ],
     "language": "python",
     "outputs": [],
     "prompt_number": 66
    },
    {
     "cell_type": "code",
     "collapsed": false,
     "input": [
      "display(tp)"
     ],
     "language": "python",
     "outputs": [
      {
       "latex": [
        "$${{\\left|1,1\\right\\rangle }}\\otimes {{\\left|1,0\\right\\rangle }}$$"
       ],
       "output_type": "display_data",
       "png": "[encoded data removed]",
       "text": [
        "\u27581,1\u27e9\u2a02 \u27581,0\u27e9"
       ]
      }
     ],
     "prompt_number": 67
    },
    {
     "cell_type": "code",
     "collapsed": true,
     "input": [
      "#big expr",
      "f = Function('f')",
      "x = symbols('x')",
      "e1 = Dagger(AntiCommutator(Operator('A')+Operator('B'),Pow(DifferentialOperator(Derivative(f(x), x), f(x)),3))*TensorProduct(Jz**2,Operator('A')+Operator('B')))*(JzBra(1,0)+JzBra(1,1))*(JzKet(0,0)+JzKet(1,-1))",
      "e2 = Commutator(Jz**2,Operator('A')+Operator('B'))*AntiCommutator(Dagger(Operator('C')*Operator('D')),Operator('E').inv()**2)*Dagger(Commutator(Jz,J2))",
      "e3 = Wigner3j(1,2,3,4,5,6)*TensorProduct(Commutator(Operator('A')+Dagger(Operator('B')),Operator('C')+Operator('D')),Jz-J2)*Dagger(OuterProduct(Dagger(JzBra(1,1)),JzBra(1,0)))*TensorProduct(JzKetCoupled(1,1,1,1)*JzKetCoupled(1,0,1,1),JzKetCoupled(1,-1,1,1))",
      "e4 = (ComplexSpace(1)*ComplexSpace(2)+FockSpace()**2)*(L2(Interval(0,oo))+HilbertSpace())"
     ],
     "language": "python",
     "outputs": [],
     "prompt_number": 68
    },
    {
     "cell_type": "code",
     "collapsed": false,
     "input": [
      "display(e1)"
     ],
     "language": "python",
     "outputs": [
      {
       "latex": [
        "$${\\left(J_z\\right)^{2}}\\otimes \\left({A^{\\dagger} + B^{\\dagger}}\\right) \\left\\{\\left(DifferentialOperator(\\frac{\\partial}{\\partial x} \\operatorname{f}{\\left (x \\right )},\\operatorname{f}{\\left (x \\right )})^{\\dagger}\\right)^{3},A^{\\dagger} + B^{\\dagger}\\right\\} \\left({\\left\\langle 1,0\\right|} + {\\left\\langle 1,1\\right|}\\right) \\left({\\left|0,0\\right\\rangle } + {\\left|1,-1\\right\\rangle }\\right)$$"
       ],
       "output_type": "display_data",
       "text": [
        "",
        "                 \u23a7                                      3        \u23ab            ",
        "                 \u23aa\u239b                                   \u2020\u239e         \u23aa            ",
        "    2  \u239b \u2020    \u2020\u239e \u23a8\u239c                    \u239bd            \u239e \u239f   \u2020    \u2020\u23ac            ",
        "\u239bJ \u239e \u2a02 \u239dA  + B \u23a0\u22c5\u23aa\u239cDifferentialOperator\u239c\u2500\u2500(f(x)),f(x)\u239f \u239f ,A  + B \u23aa\u22c5(\u27e81,0\u2758 + \u27e81",
        "\u239d z\u23a0             \u23a9\u239d                    \u239ddx           \u23a0 \u23a0         \u23ad            ",
        "",
        "                     ",
        "                     ",
        "                     ",
        ",1\u2758)\u22c5(\u27580,0\u27e9 + \u27581,-1\u27e9)",
        "                     "
       ]
      }
     ],
     "prompt_number": 69
    },
    {
     "cell_type": "code",
     "collapsed": false,
     "input": [
      "display(e2)"
     ],
     "language": "python",
     "outputs": [
      {
       "latex": [
        "$$\\left[\\left(J_z\\right)^{2},A + B\\right] \\left\\{\\left(E\\right)^{-2},D^{\\dagger} C^{\\dagger}\\right\\} \\left[J^2,J_z\\right]$$"
       ],
       "output_type": "display_data",
       "text": [
        "",
        "\u23a1    2      \u23a4 \u23a7 -2  \u2020  \u2020\u23ab \u23a1 2   \u23a4",
        "\u23a2\u239bJ \u239e ,A + B\u23a5\u22c5\u23a8E  ,D \u22c5C \u23ac\u22c5\u23a2J ,J \u23a5",
        "\u23a3\u239d z\u23a0       \u23a6 \u23a9         \u23ad \u23a3    z\u23a6"
       ]
      }
     ],
     "prompt_number": 70
    },
    {
     "cell_type": "code",
     "collapsed": false,
     "input": [
      "display(e3)"
     ],
     "language": "python",
     "outputs": [
      {
       "latex": [
        "$$\\left(\\begin{array}{ccc} 1 & 3 & 5 \\\\ 2 & 4 & 6 \\end{array}\\right) {\\left[B^{\\dagger} + A,C + D\\right]}\\otimes \\left({- J^2 + J_z}\\right) {\\left|1,0\\right\\rangle }{\\left\\langle 1,1\\right|} \\left({{\\left|1,1,1,1\\right\\rangle } {\\left|1,0,1,1\\right\\rangle }}\\right)\\otimes {{\\left|1,-1,1,1\\right\\rangle }}$$"
       ],
       "output_type": "display_data",
       "text": [
        "",
        "          \u23a1 \u2020          \u23a4  \u239b   2     \u239e                                         ",
        "\u239b1  3  5\u239e\u22c5\u23a3B  + A,C + D\u23a6\u2a02 \u239c- J  + J \u239f\u22c5\u27581,0\u27e9\u27e81,1\u2758\u22c5(\u27581,1,1,1\u27e9\u22c5\u27581,0,1,1\u27e9)\u2a02 \u27581,-1,",
        "\u239c       \u239f                 \u239d        z\u23a0                                         ",
        "\u239d2  4  6\u23a0                                                                     ",
        "",
        "    ",
        "1,1\u27e9",
        "    ",
        "    "
       ]
      }
     ],
     "prompt_number": 71
    },
    {
     "cell_type": "code",
     "collapsed": false,
     "input": [
      "display(e4)"
     ],
     "language": "python",
     "outputs": [
      {
       "latex": [
        "$$\\left(\\left(\\mathcal{C}^{1}\\otimes \\mathcal{C}^{2}\\right)\\oplus {\\mathcal{F}}^{\\otimes 2}\\right)\\otimes \\left({\\mathcal{L}^2}\\left( \\left[0, \\infty\\right) \\right)\\oplus \\mathcal{H}\\right)$$"
       ],
       "output_type": "display_data",
       "png": "[encoded data removed]",
       "text": [
        "",
        "\u239b\u239b 1    2\u239e    \u2a022\u239e   \u239b 2    \u239e",
        "\u239d\u239dC  \u2a02 C \u23a0 \u2295 F  \u23a0 \u2a02 \u239dL  \u2295 H\u23a0"
       ]
      }
     ],
     "prompt_number": 72
    }
   ]
  }
 ]
}